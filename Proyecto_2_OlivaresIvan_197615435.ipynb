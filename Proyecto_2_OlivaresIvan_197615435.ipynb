{
  "cells": [
    {
      "cell_type": "markdown",
      "metadata": {
        "id": "view-in-github",
        "colab_type": "text"
      },
      "source": [
        "<a href=\"https://colab.research.google.com/github/IOlivaresPalma/Multimedia-Trabajos/blob/main/Proyecto_2_OlivaresIvan_197615435.ipynb\" target=\"_parent\"><img src=\"https://colab.research.google.com/assets/colab-badge.svg\" alt=\"Open In Colab\"/></a>"
      ]
    },
    {
      "cell_type": "markdown",
      "id": "0a22500b-75f6-4e9e-bff8-e2166e04bd6a",
      "metadata": {
        "id": "0a22500b-75f6-4e9e-bff8-e2166e04bd6a"
      },
      "source": [
        "<h1><center>\n",
        "\n",
        "</center></h1>\n",
        "<font size=\"6\"><center>\n",
        "EIE 401\n",
        "PROCESAMIENTO DIGITAL MULTIMEDIA\n",
        "</center></font>"
      ]
    },
    {
      "cell_type": "markdown",
      "id": "4bb821ab-49e9-40ef-8ecd-d491bba9452c",
      "metadata": {
        "id": "4bb821ab-49e9-40ef-8ecd-d491bba9452c"
      },
      "source": [
        "\n",
        "<center><h2>Proyecto 2</h2></center>\n",
        "<center><h3>Procesamiento digital de señales</h3></center>\n",
        "<center><h3>Profesor: Jorge Cardenas</h3></center>\n",
        "\n",
        "<center><h3>Por: _______</h3></center>\n",
        "<center><h5>Pontificia Universidad Catolica de Valparaiso</h5></center>\n"
      ]
    },
    {
      "cell_type": "code",
      "source": [
        "!git clone 'https://github.com/Jorgecardenas1/EIE_401_MULTIMEDIA.git'"
      ],
      "metadata": {
        "colab": {
          "base_uri": "https://localhost:8080/"
        },
        "id": "Qxi0tDFhxn7b",
        "outputId": "770938b8-dbf2-44cc-b968-72ebf784f45b"
      },
      "id": "Qxi0tDFhxn7b",
      "execution_count": 1,
      "outputs": [
        {
          "output_type": "stream",
          "name": "stdout",
          "text": [
            "Cloning into 'EIE_401_MULTIMEDIA'...\n",
            "remote: Enumerating objects: 347, done.\u001b[K\n",
            "remote: Counting objects: 100% (6/6), done.\u001b[K\n",
            "remote: Compressing objects: 100% (6/6), done.\u001b[K\n",
            "remote: Total 347 (delta 1), reused 1 (delta 0), pack-reused 341\u001b[K\n",
            "Receiving objects: 100% (347/347), 44.47 MiB | 21.39 MiB/s, done.\n",
            "Resolving deltas: 100% (159/159), done.\n"
          ]
        }
      ]
    },
    {
      "cell_type": "code",
      "execution_count": null,
      "id": "215c84a4",
      "metadata": {
        "id": "215c84a4"
      },
      "outputs": [],
      "source": [
        "from IPython.display import IFrame, display\n",
        "#filepath = \"Proyecto_2_EIE401.pdf\"\n",
        "#IFrame(filepath, width=700, height=400)"
      ]
    },
    {
      "cell_type": "markdown",
      "id": "c63b11e7",
      "metadata": {
        "id": "c63b11e7"
      },
      "source": [
        "En la dirección https://huggingface.co/datasets/astroboy1/metasurfaces_V1_30-90GHZ encontrarás el archivo batch_june2024.zip que contiene las imagenes que usarás para el procesamiento. ATENCION: usa el archivo zip indicado pues tienes las imagenes preparadas para tu trabajo."
      ]
    },
    {
      "cell_type": "markdown",
      "id": "f0889ee3-d16b-49e3-be4b-a4c94f28701d",
      "metadata": {
        "id": "f0889ee3-d16b-49e3-be4b-a4c94f28701d"
      },
      "source": [
        "## 1. Carga de Datos\n"
      ]
    },
    {
      "cell_type": "markdown",
      "id": "567bb56f",
      "metadata": {
        "id": "567bb56f"
      },
      "source": [
        "- En los archivos, encontrarás un folder con imagenes de 3 categorías: cross, box, circle.\n",
        "Cada imagen tiene una medida de 512x512 pixeles y 3 canales. Se han acentuado los azules y rojos para facilitar el proceso de obtención de características.\n",
        "\n",
        "- Puedes extraer la clase a la que pertenece la imagen, desde el nombre del archivo. Ahí mismo encuentras números de serie que te permiten identificar de forma específica una imagen.\n",
        "\n",
        "- Se te entrega 3 imagenes de referencia de 32x32 pixeles, las que debes usar como plantilla para el proceso de clasificación de la imagen.\n"
      ]
    },
    {
      "cell_type": "code",
      "execution_count": 2,
      "id": "d0ab6ee5-d7a3-4cf7-9aee-1d1a76b5525f",
      "metadata": {
        "tags": [],
        "colab": {
          "base_uri": "https://localhost:8080/"
        },
        "id": "d0ab6ee5-d7a3-4cf7-9aee-1d1a76b5525f",
        "outputId": "14a30add-5d1b-4efb-d450-ebf7653756f6"
      },
      "outputs": [
        {
          "output_type": "stream",
          "name": "stdout",
          "text": [
            "Done\n"
          ]
        }
      ],
      "source": [
        "# Extraer carpeta de imagenes\n",
        "from zipfile import ZipFile\n",
        "import cv2\n",
        "import numpy as np\n",
        "import matplotlib.pyplot as plt\n",
        "import os\n",
        "\n",
        "with ZipFile('/content/EIE_401_MULTIMEDIA/Proyectos/Proyecto 2/imagenes.zip', 'r') as zipObj:\n",
        "  ZipFile.extractall(zipObj, 'imagenes')\n",
        "  print('Done')"
      ]
    },
    {
      "cell_type": "code",
      "source": [
        "# Establecer mascaras box_templae - circ_templae - cross_templae\n",
        "import cv2\n",
        "import numpy as np\n",
        "import matplotlib.pyplot as plt\n",
        "\n",
        "circ_template = (cv2.imread('/content/EIE_401_MULTIMEDIA/Proyectos/Proyecto 2/circ_templae.png', cv2.IMREAD_GRAYSCALE))\n",
        "\n",
        "box_template = (cv2.imread('/content/EIE_401_MULTIMEDIA/Proyectos/Proyecto 2/box_templae.png', cv2.IMREAD_GRAYSCALE))\n",
        "\n",
        "cross_template = (cv2.imread('/content/EIE_401_MULTIMEDIA/Proyectos/Proyecto 2/cross_templae.png', cv2.IMREAD_GRAYSCALE))\n",
        "\n",
        "fig, ax = plt.subplots(1, 3, figsize=(10, 5))\n",
        "\n",
        "ax[0].imshow(circ_template, cmap='gray')\n",
        "ax[0].set_title('Circ Template')\n",
        "\n",
        "ax[1].imshow(box_template, cmap='gray')\n",
        "ax[1].set_title('Box Template')\n",
        "\n",
        "ax[2].imshow(cross_template, cmap='gray')\n",
        "ax[2].set_title('Cross Template')\n",
        "\n",
        "plt.show()"
      ],
      "metadata": {
        "colab": {
          "base_uri": "https://localhost:8080/",
          "height": 310
        },
        "id": "-iI5XaRBybJT",
        "outputId": "f5875239-424a-4898-ed1e-b38df0e219ac"
      },
      "id": "-iI5XaRBybJT",
      "execution_count": 3,
      "outputs": [
        {
          "output_type": "display_data",
          "data": {
            "text/plain": [
              "<Figure size 1000x500 with 3 Axes>"
            ],
            "image/png": "[encoded data removed]"
          },
          "metadata": {}
        }
      ]
    },
    {
      "cell_type": "code",
      "source": [],
      "metadata": {
        "id": "--TFe7Ko3Y5l"
      },
      "id": "--TFe7Ko3Y5l",
      "execution_count": null,
      "outputs": []
    },
    {
      "cell_type": "markdown",
      "id": "28db8b8d",
      "metadata": {
        "id": "28db8b8d"
      },
      "source": [
        "## 2. Transformar imagen\n",
        "Recuerda que la tarea es lograr el procesamiento más rápido posible.\n",
        "Para lograr esto, realiza las operaciones que consideres necesarias sobre la imagen original para el posterior trabajo de Matching con las plantillas dadas. Crees que trabajar en el dominio de fourier o wavelet ayudaría en las etapas posteriores?"
      ]
    },
    {
      "cell_type": "code",
      "execution_count": null,
      "id": "3cf800d9",
      "metadata": {
        "id": "3cf800d9"
      },
      "outputs": [],
      "source": [
        "from scipy.fftpack import fft2, ifft2\n",
        "\n",
        "# Función para realizar la transformada de Fourier\n",
        "def apply_fft(image):\n",
        "    return fft2(image)"
      ]
    },
    {
      "cell_type": "markdown",
      "source": [
        "Se utiliza de preferencia transformadas de Fourier, esto es porque la transformada Wavelet toma más tiempo que Fourier"
      ],
      "metadata": {
        "id": "QlGBF_QyzFyi"
      },
      "id": "QlGBF_QyzFyi"
    },
    {
      "cell_type": "markdown",
      "id": "c64b67c8",
      "metadata": {
        "id": "c64b67c8"
      },
      "source": [
        "## 3. Operaciones\n",
        "Para extraer las caracteristicas, debes realizar las operaciones de segmentación, normalización o convolución como creas necesarias.\n",
        "El resultado de tus operaciones vas a usarlo para el proceso de matching.\n"
      ]
    },
    {
      "cell_type": "code",
      "execution_count": 4,
      "id": "16275ac1",
      "metadata": {
        "id": "16275ac1"
      },
      "outputs": [],
      "source": [
        "# Función para reducir y normalizar imágenes\n",
        "def process_and_normalize_image(image_path, output_path, size=(512, 512)):\n",
        "    image = cv2.imread(image_path, cv2.IMREAD_GRAYSCALE)\n",
        "    resized_image = cv2.resize(image, size)\n",
        "    normalized_image = cv2.normalize(resized_image, None, 0, 255, cv2.NORM_MINMAX)\n",
        "    cv2.imwrite(output_path, normalized_image)"
      ]
    },
    {
      "cell_type": "code",
      "source": [
        "import cv2\n",
        "import numpy as np\n",
        "import os\n",
        "from sklearn.metrics import precision_score, confusion_matrix\n",
        "\n",
        "# Definir las rutas de las carpetas\n",
        "input_folder = '/content/imagenes/processed512/'\n",
        "output_folder = '/content/imagenes_new/'\n",
        "template_folder = 'ruta/a/carpeta/templates/'\n",
        "\n",
        "\n",
        "# Crear la carpeta de salida si no existe\n",
        "if not os.path.exists(output_folder):\n",
        "    os.makedirs(output_folder)\n",
        "\n",
        "# Procesar todas las imágenes en la carpeta de entrada\n",
        "for filename in os.listdir(input_folder):\n",
        "    input_path = os.path.join(input_folder, filename)\n",
        "    output_path = os.path.join(output_folder, filename)\n",
        "    process_and_normalize_image(input_path, output_path,size=(256,256))\n",
        "\n",
        "# normalizar templates\n",
        "\n",
        "circ_template = cv2.normalize(circ_template, None, 0, 255, cv2.NORM_MINMAX)\n",
        "box_template = cv2.normalize(box_template, None, 0, 255, cv2.NORM_MINMAX)\n",
        "cross_template = cv2.normalize(cross_template, None, 0, 255, cv2.NORM_MINMAX)\n",
        "\n",
        "\n"
      ],
      "metadata": {
        "id": "U9TCnofG3kYs"
      },
      "id": "U9TCnofG3kYs",
      "execution_count": 5,
      "outputs": []
    },
    {
      "cell_type": "markdown",
      "id": "55e692dd",
      "metadata": {
        "id": "55e692dd"
      },
      "source": [
        "## 4. Matching\n",
        "El proceso de matching debe considerar que vas a usar las imagenes de referencia para calcular la correlación\n",
        "\n",
        "\n",
        "Este proceso es similar a un windowing, donde la ventana es la imagen de referencia.\n",
        "Como verás es un proceso iterativo, dispendioso, pero en el que puedes poner tu creatividad a funcionar para lograrlo de forma eficiente.\n",
        "\n",
        "#### _TIP: realiza el proceso un batch pequeño de imagenes, o solo sobre un par de ellas, hasta que estés satisfecho con el resultado. Una vez esté listo, ESCALA el procedimiento para operar todas la imagenes lo más rápido posible.!_"
      ]
    },
    {
      "cell_type": "code",
      "source": [
        "#Se establece un batch de imagenes\n",
        "import random\n",
        "import os\n",
        "\n",
        "folder_img = '/content/imagenes_new/'\n",
        "carpeta_list = os.listdir(folder_img)\n",
        "\n",
        "\n",
        "batch_size = 50\n",
        "img_escogidas = random.sample(carpeta_list,k=batch_size)"
      ],
      "metadata": {
        "id": "XHqgmHcb5ShH"
      },
      "id": "XHqgmHcb5ShH",
      "execution_count": 56,
      "outputs": []
    },
    {
      "cell_type": "code",
      "execution_count": 52,
      "id": "8e7dfee1",
      "metadata": {
        "id": "8e7dfee1"
      },
      "outputs": [],
      "source": [
        "# Template Matching\n",
        "from scipy.fft import fft2,ifft2\n",
        "import cv2\n",
        "import numpy as np\n",
        "import matplotlib.pyplot as plt\n",
        "\n",
        "def TemplateMatching(img,template):\n",
        "  # tanto la imagen como el template deben estar normalizados\n",
        "  # Se obtienen las transformadas de fourier para la imagen y el template\n",
        "\n",
        "  img_fft = fft2(img)\n",
        "  template_fft = fft2(template)\n",
        "  img_fft_real = np.real(img_fft).astype(np.float32) # Cast to 32-bit float\n",
        "  template_fft_real = np.real(template_fft).astype(np.float32) # Cast to 32-bit float\n",
        "\n",
        "  #corr = cv2.matchTemplate(img,template,cv2.TM_CCOEFF_NORMED) # Use real-valued arrays here\n",
        "  corr = cv2.matchTemplate(img_fft_real,template_fft_real,cv2.TM_CCOEFF_NORMED) # Use real-valued arrays here\n",
        "  corr = np.real(ifft2(corr))\n",
        "  return corr\n",
        "\n",
        "def obtener_MaxVal_MaxLoc(corr):\n",
        "  min_val, max_val, min_loc, max_loc = cv2.minMaxLoc(corr)\n",
        "  return max_val, max_loc\n",
        "\n",
        "def DetectImg(img,correlacion):\n",
        "  pos_max = correlacion.index(max(correlacion))\n",
        "\n",
        "  if pos_max == 0:\n",
        "    #print(f\"{img} clasificada como : Circulo\")\n",
        "    return 'circ'\n",
        "  elif pos_max == 1:\n",
        "    #print(f\"{img} clasificada como : cuadrado\")\n",
        "    return 'box'\n",
        "  else:\n",
        "    #print(f\"{img} clasificada como : cruz\")\n",
        "    return 'cross'\n",
        "\n",
        "\n",
        "def Extraer_Etiqueta(name_img):\n",
        "  name = name_img.split('_')\n",
        "  return name[0]\n",
        "\n",
        "\n",
        "\n"
      ]
    },
    {
      "cell_type": "markdown",
      "id": "550b44f5",
      "metadata": {
        "tags": [],
        "id": "550b44f5"
      },
      "source": [
        "# 5. Clasificación\n",
        "De cada operación realizada de matching, obtendrás valores para inferir si la imagen bajo estudio corresponde con alguna de las 3 categorías: cross, box, circle.\n",
        "\n",
        "Debes almacenar cada resultado obtenido para cada imagen, hallar el error de clasificación y generar un informe del error general al clasificar todas las imagenes."
      ]
    },
    {
      "cell_type": "markdown",
      "id": "50606ff2-b6ab-4b75-9292-ca6dfd1f2cf3",
      "metadata": {
        "tags": [],
        "id": "50606ff2-b6ab-4b75-9292-ca6dfd1f2cf3"
      },
      "source": [
        "Presenta aquí el resultado de clasificación numérico, así como  dos ejemplos verdaderos y dos ejemplos falsos de imagenes clasificadas.\n"
      ]
    },
    {
      "cell_type": "code",
      "execution_count": 59,
      "id": "13920e66-4b02-4fad-b711-78fe6249c5f8",
      "metadata": {
        "id": "13920e66-4b02-4fad-b711-78fe6249c5f8",
        "colab": {
          "base_uri": "https://localhost:8080/"
        },
        "outputId": "63f0c5a6-2287-42d9-d9f4-ddfc00de1ad6"
      },
      "outputs": [
        {
          "output_type": "stream",
          "name": "stdout",
          "text": [
            "Precision: 36.0%\n",
            "1.0424857849993714\n"
          ]
        }
      ],
      "source": [
        "# Prueba de las 50 imagenes\n",
        "from timeit import default_timer as timer\n",
        "\n",
        "start = timer()\n",
        "Pos_Neg = {'Positivos': 0,'Negativos' : 0}\n",
        "\n",
        "for imagen in img_escogidas:\n",
        "  img = cv2.imread(os.path.join(output_folder, imagen), cv2.IMREAD_GRAYSCALE)\n",
        "  corr_circle = TemplateMatching(img, circ_template)\n",
        "  corr_box = TemplateMatching(img, box_template)\n",
        "  corr_cross = TemplateMatching(img, cross_template)\n",
        "  corr_values = [-1,-1,-1]\n",
        "  corr_values[0] = obtener_MaxVal_MaxLoc(corr_circle)[0]\n",
        "  corr_values[1] = obtener_MaxVal_MaxLoc(corr_box)[0]\n",
        "  corr_values[2] = obtener_MaxVal_MaxLoc(corr_cross)[0]\n",
        "  label = DetectImg(imagen,corr_values)\n",
        "  etiqueta_real = Extraer_Etiqueta(imagen)\n",
        "  #print(f\"Etiqueta real: {etiqueta_real}\")\n",
        "  #print(f\"Etiqueta inferida: {label}\")\n",
        "\n",
        "  if label == etiqueta_real:\n",
        "    #print(\"La etiqueta es correcta\")\n",
        "    Pos_Neg['Positivos'] += 1\n",
        "  else:\n",
        "    #print(\"La etiqueta es incorrecta\")\n",
        "    Pos_Neg['Negativos'] += 1\n",
        "\n",
        "Pos_Neg.values()\n",
        "Precision = Pos_Neg['Positivos']/(Pos_Neg['Positivos']+Pos_Neg['Negativos'])\n",
        "print(f\"Precision: {Precision*100}%\")\n",
        "\n",
        "end = timer()\n",
        "print(end - start)\n"
      ]
    },
    {
      "cell_type": "markdown",
      "id": "3add46e0-f5e2-4a20-8830-3e795f78d2a0",
      "metadata": {
        "id": "3add46e0-f5e2-4a20-8830-3e795f78d2a0"
      },
      "source": [
        "# 6. Medición\n",
        "Recuerda que debes imprimir el tiempo que tarda tu algoritmo en procesar todas las imagenes en la base de datos. Usa el siguiente fragmento de código, ubicando el inicio y fin donde corresponda.\n",
        "\n",
        "\n",
        "\n"
      ]
    },
    {
      "cell_type": "code",
      "source": [
        "# Template Matching\n",
        "from scipy.fft import fft2,ifft2\n",
        "import cv2\n",
        "import numpy as np\n",
        "import matplotlib.pyplot as plt\n",
        "\n",
        "def TemplateMatching(img,template):\n",
        "  # tanto la imagen como el template deben estar normalizados\n",
        "  # Se obtienen las transformadas de fourier para la imagen y el template\n",
        "\n",
        "  img_fft = fft2(img)\n",
        "  template_fft = fft2(template)\n",
        "  img_fft_real = np.real(img_fft).astype(np.float32) # Cast to 32-bit float\n",
        "  template_fft_real = np.real(template_fft).astype(np.float32) # Cast to 32-bit float\n",
        "\n",
        "  #corr = cv2.matchTemplate(img,template,cv2.TM_CCOEFF_NORMED) # Use real-valued arrays here\n",
        "  corr = cv2.matchTemplate(img_fft_real,template_fft_real,cv2.TM_CCOEFF_NORMED) # Use real-valued arrays here\n",
        "  corr = np.real(ifft2(corr))\n",
        "  return corr\n",
        "\n",
        "def obtener_MaxVal_MaxLoc(corr):\n",
        "  min_val, max_val, min_loc, max_loc = cv2.minMaxLoc(corr)\n",
        "  return max_val, max_loc\n",
        "\n",
        "def DetectImg(img,correlacion):\n",
        "  pos_max = correlacion.index(max(correlacion))\n",
        "\n",
        "  if pos_max == 0:\n",
        "    #print(f\"{img} clasificada como : Circulo\")\n",
        "    return 'circ'\n",
        "  elif pos_max == 1:\n",
        "    #print(f\"{img} clasificada como : cuadrado\")\n",
        "    return 'box'\n",
        "  else:\n",
        "    #print(f\"{img} clasificada como : cruz\")\n",
        "    return 'cross'\n",
        "\n",
        "\n",
        "def Extraer_Etiqueta(name_img):\n",
        "  name = name_img.split('_')\n",
        "  return name[0]\n",
        "\n",
        "\n",
        "\n"
      ],
      "metadata": {
        "id": "uGX5FRoBbADf"
      },
      "id": "uGX5FRoBbADf",
      "execution_count": null,
      "outputs": []
    },
    {
      "cell_type": "code",
      "execution_count": 61,
      "id": "bd8e1005-2576-4d78-93eb-3a3124f5394c",
      "metadata": {
        "id": "bd8e1005-2576-4d78-93eb-3a3124f5394c",
        "colab": {
          "base_uri": "https://localhost:8080/"
        },
        "outputId": "4dedf310-2475-47f7-8372-cc81787f69a8"
      },
      "outputs": [
        {
          "output_type": "stream",
          "name": "stdout",
          "text": [
            "Precision: 41.26186487995533%\n",
            "322.83463573099834\n"
          ]
        }
      ],
      "source": [
        "from timeit import default_timer as timer\n",
        "# Template Matching\n",
        "from scipy.fft import fft2,ifft2\n",
        "import cv2\n",
        "import numpy as np\n",
        "import matplotlib.pyplot as plt\n",
        "from timeit import default_timer as timer\n",
        "import os\n",
        "\n",
        "\n",
        "\n",
        "start = timer()\n",
        "\n",
        "carpeta_img = '/content/imagenes_new'\n",
        "carpeta_list = os.listdir(carpeta_img)\n",
        "\n",
        "\n",
        "Pos_Neg = {'Positivos': 0,'Negativos' : 0}\n",
        "\n",
        "for imagen in carpeta_list:\n",
        "  img = cv2.imread(os.path.join(carpeta_img, imagen), cv2.IMREAD_GRAYSCALE)\n",
        "  corr_circle = TemplateMatching(img, circ_template)\n",
        "  corr_box = TemplateMatching(img, box_template)\n",
        "  corr_cross = TemplateMatching(img, cross_template)\n",
        "  corr_values = [-1,-1,-1]\n",
        "  corr_values[0] = obtener_MaxVal_MaxLoc(corr_circle)[0]\n",
        "  corr_values[1] = obtener_MaxVal_MaxLoc(corr_box)[0]\n",
        "  corr_values[2] = obtener_MaxVal_MaxLoc(corr_cross)[0]\n",
        "  label = DetectImg(imagen,corr_values)\n",
        "  etiqueta_real = Extraer_Etiqueta(imagen)\n",
        "  #print(f\"Etiqueta real: {etiqueta_real}\")\n",
        "  #print(f\"Etiqueta inferida: {label}\")\n",
        "\n",
        "  if label == etiqueta_real:\n",
        "    #print(\"La etiqueta es correcta\")\n",
        "    Pos_Neg['Positivos'] += 1\n",
        "  else:\n",
        "    #print(\"La etiqueta es incorrecta\")\n",
        "    Pos_Neg['Negativos'] += 1\n",
        "\n",
        "Pos_Neg.values()\n",
        "Precision = Pos_Neg['Positivos']/(Pos_Neg['Positivos']+Pos_Neg['Negativos'])\n",
        "print(f\"Precision: {Precision*100}%\")\n",
        "\n",
        "end = timer()\n",
        "minutes = int((end-start)/60)\n",
        "seconds = int((end-start)%60)\n",
        "print(f\"El código demoró: {minutes} minutos y {seconds} segundos\")\n"
      ]
    },
    {
      "cell_type": "code",
      "source": [
        "minutes = int((end-start)/60)\n",
        "seconds = int((end-start)%60)\n",
        "print(f\"El código demoró: {minutes} minutos y {seconds} segundos\")"
      ],
      "metadata": {
        "colab": {
          "base_uri": "https://localhost:8080/"
        },
        "id": "MpMKp9DlbsFt",
        "outputId": "e131cb87-f34f-4db2-c175-c23a917ac01e"
      },
      "id": "MpMKp9DlbsFt",
      "execution_count": 64,
      "outputs": [
        {
          "output_type": "stream",
          "name": "stdout",
          "text": [
            "El código demoró: 5 minutos y 22 segundos\n"
          ]
        }
      ]
    },
    {
      "cell_type": "code",
      "source": [],
      "metadata": {
        "id": "3qbZ1nv8dV5N"
      },
      "id": "3qbZ1nv8dV5N",
      "execution_count": null,
      "outputs": []
    }
  ],
  "metadata": {
    "kernelspec": {
      "display_name": "Python 3 (ipykernel)",
      "language": "python",
      "name": "python3"
    },
    "language_info": {
      "codemirror_mode": {
        "name": "ipython",
        "version": 3
      },
      "file_extension": ".py",
      "mimetype": "text/x-python",
      "name": "python",
      "nbconvert_exporter": "python",
      "pygments_lexer": "ipython3",
      "version": "3.10.12"
    },
    "colab": {
      "provenance": [],
      "include_colab_link": true
    }
  },
  "nbformat": 4,
  "nbformat_minor": 5
}